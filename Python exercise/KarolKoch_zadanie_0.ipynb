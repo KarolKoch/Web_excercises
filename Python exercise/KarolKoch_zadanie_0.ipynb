{
 "cells": [
  {
   "attachments": {},
   "cell_type": "markdown",
   "id": "92208370",
   "metadata": {
    "deletable": false,
    "editable": false,
    "nbgrader": {
     "cell_type": "markdown",
     "checksum": "25b0473f1176c18e78c33d52133c288e",
     "grade": false,
     "grade_id": "cell-d5631d1bc48cf2dd",
     "locked": true,
     "schema_version": 3,
     "solution": false,
     "task": false
    }
   },
   "source": [
    "<center>\n",
    "    <img src='http://torus.uck.pk.edu.pl/~amarsz/images/mooc/naglowek_power2.png', alt=\"Logo: Fundusze Europejskie Wiedza Edukacja Rozwój, Politechnika Krakowska, Unia Europejska Europejski Fundusz Spełeczny\">\n",
    "</center><br><br>\n",
    "<center>\n",
    "    <font size=\"10\">Programowanie w języku Python\n",
    "    </font>\n",
    "</center><br>\n",
    "<br><center><small>\n",
    "Projekt „MOoC Kodowania” nr POWR.03.01.00-00-W004/18-00<br/> realizowany w ramach Programu Operacyjnego Wiedza Edukacja Rozwój 2014-2020<br/>\n",
    "współfinansowany ze środków Europejskiego Funduszu Społecznego  \n",
    "    </small>\n",
    "</center>"
   ]
  },
  {
   "attachments": {},
   "cell_type": "markdown",
   "id": "7087147b",
   "metadata": {
    "deletable": false,
    "editable": false,
    "nbgrader": {
     "cell_type": "markdown",
     "checksum": "45d60de10a400cd0f0c0306b01e86f34",
     "grade": false,
     "grade_id": "cell-ad8200fe794282bb",
     "locked": true,
     "schema_version": 3,
     "solution": false,
     "task": false
    }
   },
   "source": [
    "Przed rozpoczęciem pracy z notatnikiem zmień jego nazwę zgodnie z wzorem: `NazwaUzytkownika_Zadania_0`.\n",
    "\n",
    "Przed wysłaniem notatnika upewnij się, że rozwiązałeś wszystkie zadania/ćwiczenia, w szczególności, że uzupełniłeś wszystkie pola `YOUR CODE HERE` oraz `YOUR ANSWER HERE`."
   ]
  },
  {
   "attachments": {},
   "cell_type": "markdown",
   "id": "91c7946b",
   "metadata": {
    "deletable": false,
    "editable": false,
    "nbgrader": {
     "cell_type": "markdown",
     "checksum": "692ec9d3d898903f4e1bf524fc0a84fa",
     "grade": false,
     "grade_id": "cell-b6830be351e5c9b6",
     "locked": true,
     "schema_version": 3,
     "solution": false,
     "task": false
    }
   },
   "source": [
    "## Zadanie 1 (2pkt.)\n",
    "Napisz program, który utworzy zmienną `a` i przypisze jej wartość `2`."
   ]
  },
  {
   "cell_type": "code",
   "execution_count": 3,
   "id": "a1dd346b",
   "metadata": {
    "deletable": false,
    "nbgrader": {
     "cell_type": "code",
     "checksum": "75e38ddbfa382615e3d81334dd8ac985",
     "grade": true,
     "grade_id": "cell-651eed6ae7a7e5ae",
     "locked": false,
     "points": 2,
     "schema_version": 3,
     "solution": true,
     "task": false
    }
   },
   "outputs": [
    {
     "name": "stdout",
     "output_type": "stream",
     "text": [
      "2\n",
      "5\n"
     ]
    }
   ],
   "source": [
    "a = 2\n",
    "print(a)\n",
    "b = 3\n",
    "print(a + b)"
   ]
  },
  {
   "attachments": {},
   "cell_type": "markdown",
   "id": "9e6329f6",
   "metadata": {
    "deletable": false,
    "editable": false,
    "nbgrader": {
     "cell_type": "markdown",
     "checksum": "66cca9184875fe114873b1a024f0d615",
     "grade": false,
     "grade_id": "cell-c08dd7aef81748ad",
     "locked": true,
     "schema_version": 3,
     "solution": false,
     "task": false
    }
   },
   "source": [
    "<div style=\"text-align: right\">&copy; Politechnika Krakowska im. Tadeusza Kościuszki </div>"
   ]
  }
 ],
 "metadata": {
  "kernelspec": {
   "display_name": "Python 3 (ipykernel)",
   "language": "python",
   "name": "python3"
  },
  "language_info": {
   "codemirror_mode": {
    "name": "ipython",
    "version": 3
   },
   "file_extension": ".py",
   "mimetype": "text/x-python",
   "name": "python",
   "nbconvert_exporter": "python",
   "pygments_lexer": "ipython3",
   "version": "3.11.3"
  }
 },
 "nbformat": 4,
 "nbformat_minor": 5
}
