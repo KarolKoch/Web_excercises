{
 "cells": [
  {
   "cell_type": "code",
   "execution_count": 4,
   "metadata": {},
   "outputs": [
    {
     "data": {
      "text/plain": [
       "int"
      ]
     },
     "execution_count": 4,
     "metadata": {},
     "output_type": "execute_result"
    }
   ],
   "source": [
    "a = 2\n",
    "b = 3\n",
    "a is not b\n",
    "type(a)"
   ]
  },
  {
   "cell_type": "code",
   "execution_count": 10,
   "metadata": {},
   "outputs": [
    {
     "name": "stdout",
     "output_type": "stream",
     "text": [
      "1154\n"
     ]
    }
   ],
   "source": [
    "a += (12*2)**2\n",
    "print(a)"
   ]
  },
  {
   "cell_type": "code",
   "execution_count": 11,
   "metadata": {},
   "outputs": [
    {
     "data": {
      "text/plain": [
       "2"
      ]
     },
     "execution_count": 11,
     "metadata": {},
     "output_type": "execute_result"
    }
   ],
   "source": [
    "abs(-2)"
   ]
  },
  {
   "cell_type": "code",
   "execution_count": 22,
   "metadata": {},
   "outputs": [
    {
     "data": {
      "text/plain": [
       "'A'"
      ]
     },
     "execution_count": 22,
     "metadata": {},
     "output_type": "execute_result"
    }
   ],
   "source": [
    "chr(65)"
   ]
  },
  {
   "cell_type": "code",
   "execution_count": 26,
   "metadata": {},
   "outputs": [
    {
     "data": {
      "text/plain": [
       "65"
      ]
     },
     "execution_count": 26,
     "metadata": {},
     "output_type": "execute_result"
    }
   ],
   "source": [
    "ord(\"A\")"
   ]
  },
  {
   "cell_type": "code",
   "execution_count": 60,
   "metadata": {},
   "outputs": [],
   "source": []
  },
  {
   "cell_type": "code",
   "execution_count": 63,
   "metadata": {},
   "outputs": [
    {
     "name": "stdout",
     "output_type": "stream",
     "text": [
      "Długość przed usinięciem: 17\n",
      "tekst po zmianie: Przkładow tekst\n",
      "długość po zmianie: 15\n"
     ]
    }
   ],
   "source": [
    "tekst =\"Przykładowy tekst\" \n",
    "znak = \"y\"\n",
    "print(\"Długość przed usinięciem: {}\" .format(len(tekst)))\n",
    "nowy_tekst = tekst.replace(znak, \"\")\n",
    "print(\"tekst po zmianie: {}\" .format(nowy_tekst))\n",
    "print(\"długość po zmianie: {}\" .format(len(nowy_tekst)))"
   ]
  },
  {
   "cell_type": "code",
   "execution_count": 64,
   "metadata": {},
   "outputs": [],
   "source": [
    "i = 1\n",
    "x = 2.5"
   ]
  },
  {
   "cell_type": "code",
   "execution_count": 65,
   "metadata": {},
   "outputs": [
    {
     "name": "stdout",
     "output_type": "stream",
     "text": [
      "i: |1|\n",
      "i: |         1|\n",
      "i: |        +1|\n",
      "i: |1         |\n",
      "i: |0000000001|\n"
     ]
    }
   ],
   "source": [
    "print(\"i: |%d|\" % i)\n",
    "print(\"i: |%10d|\" % i)\n",
    "print(\"i: |%+10d|\" % i)\n",
    "print(\"i: |%-10d|\" % i)\n",
    "print(\"i: |%010d|\" % i)"
   ]
  },
  {
   "cell_type": "code",
   "execution_count": 72,
   "metadata": {},
   "outputs": [
    {
     "name": "stdout",
     "output_type": "stream",
     "text": [
      "x: |2.5|\n",
      "x: |       2.5|\n",
      "x: |    2.5000|\n",
      "x: |2.5000    |\n",
      "x: |00002.5000|\n",
      "x: |2.5000e+00|\n"
     ]
    }
   ],
   "source": [
    "print(\"x: |%.1f|\" % x)\n",
    "print(\"x: |%10.1f|\" % x)\n",
    "print(\"x: |%10.4f|\" % x)\n",
    "print(\"x: |%-10.4f|\" % x)\n",
    "print(\"x: |%010.4f|\" % x)\n",
    "print(\"x: |%.4e|\" % x)"
   ]
  },
  {
   "cell_type": "code",
   "execution_count": 85,
   "metadata": {},
   "outputs": [
    {
     "name": "stdout",
     "output_type": "stream",
     "text": [
      "dont try it\n"
     ]
    }
   ],
   "source": [
    "a=-1\n",
    "if a>0:\n",
    "    print(\"good anakin good\")\n",
    "elif a>=0:\n",
    "    print(\"This is outrages\") \n",
    "else:\n",
    "    print(\"dont try it\")\n"
   ]
  },
  {
   "cell_type": "code",
   "execution_count": 91,
   "metadata": {},
   "outputs": [
    {
     "name": "stdout",
     "output_type": "stream",
     "text": [
      "Równanie ma dwa pierwiastki rzeczywiste:  1.0 -1.0\n"
     ]
    }
   ],
   "source": [
    "a = float(input(\"podaj liczbę\"))\n",
    "b = float(input(\"podaj liczbę\"))\n",
    "c = float(input(\"podaj liczbę\"))\n",
    "delta = b**2 - 4*a*c\n",
    "if delta < 0:\n",
    "    print(\"brak pierwiatków\")\n",
    "elif delta ==0:\n",
    "    x0 = -b/(2*a)\n",
    "    print(\"jeden pierwiatek rzeczywisty: \", x0 )\n",
    "else:\n",
    "    x1 = (-b+delta**0.5)/(2*a)\n",
    "    x2 = (-b-delta**0.5)/(2*a)\n",
    "    print(\"Równanie ma dwa pierwiastki rzeczywiste: \", x1, x2)"
   ]
  },
  {
   "cell_type": "code",
   "execution_count": 111,
   "metadata": {},
   "outputs": [
    {
     "name": "stdout",
     "output_type": "stream",
     "text": [
      "3\n"
     ]
    }
   ],
   "source": [
    "x=0\n",
    "a=5\n",
    "b=5\n",
    "if a > 0:\n",
    "    if b < 0:\n",
    "        x = x + 5\n",
    "    elif a > 5:\n",
    "        x = x + 4\n",
    "    else:\n",
    "        x = x + 3\n",
    "else:\n",
    "    x = x + 2\n",
    "print(x)"
   ]
  },
  {
   "cell_type": "code",
   "execution_count": 7,
   "metadata": {},
   "outputs": [
    {
     "data": {
      "text/plain": [
       "0"
      ]
     },
     "execution_count": 7,
     "metadata": {},
     "output_type": "execute_result"
    }
   ],
   "source": [
    "l = [1, 2, 3]\n",
    "l.count(0)"
   ]
  }
 ],
 "metadata": {
  "kernelspec": {
   "display_name": "base",
   "language": "python",
   "name": "python3"
  },
  "language_info": {
   "codemirror_mode": {
    "name": "ipython",
    "version": 3
   },
   "file_extension": ".py",
   "mimetype": "text/x-python",
   "name": "python",
   "nbconvert_exporter": "python",
   "pygments_lexer": "ipython3",
   "version": "3.11.3"
  },
  "orig_nbformat": 4
 },
 "nbformat": 4,
 "nbformat_minor": 2
}
