{
 "cells": [
  {
   "cell_type": "code",
   "execution_count": 4,
   "metadata": {},
   "outputs": [
    {
     "data": {
      "text/plain": [
       "int"
      ]
     },
     "execution_count": 4,
     "metadata": {},
     "output_type": "execute_result"
    }
   ],
   "source": [
    "#identyczność\n",
    "a = 2\n",
    "b = 3\n",
    "a is not b\n",
    "type(a)"
   ]
  },
  {
   "cell_type": "code",
   "execution_count": 10,
   "metadata": {},
   "outputs": [
    {
     "name": "stdout",
     "output_type": "stream",
     "text": [
      "1154\n"
     ]
    }
   ],
   "source": [
    "a += (12*2)**2\n",
    "print(a)"
   ]
  },
  {
   "cell_type": "code",
   "execution_count": 35,
   "metadata": {},
   "outputs": [
    {
     "data": {
      "text/plain": [
       "2"
      ]
     },
     "execution_count": 35,
     "metadata": {},
     "output_type": "execute_result"
    }
   ],
   "source": [
    "abs(-2)"
   ]
  },
  {
   "cell_type": "code",
   "execution_count": 36,
   "metadata": {},
   "outputs": [
    {
     "data": {
      "text/plain": [
       "65"
      ]
     },
     "execution_count": 36,
     "metadata": {},
     "output_type": "execute_result"
    }
   ],
   "source": [
    "chr(65)\n",
    "ord(\"A\")"
   ]
  },
  {
   "cell_type": "code",
   "execution_count": 34,
   "metadata": {},
   "outputs": [
    {
     "data": {
      "text/plain": [
       "0"
      ]
     },
     "execution_count": 34,
     "metadata": {},
     "output_type": "execute_result"
    }
   ],
   "source": [
    "\n",
    "#count w listach nie w zbiorach\n",
    "l = [1, 2, 3]\n",
    "l.count(0)"
   ]
  },
  {
   "cell_type": "code",
   "execution_count": 33,
   "metadata": {},
   "outputs": [
    {
     "data": {
      "text/plain": [
       "[20, 2, 1]"
      ]
     },
     "execution_count": 33,
     "metadata": {},
     "output_type": "execute_result"
    }
   ],
   "source": [
    "#operacje na listach\n",
    "l = [1, 2, 3]\n",
    "l.insert(0, 5)\n",
    "l.remove(5)\n",
    "l.extend\n",
    "l.reverse()\n",
    "l*2+l\n",
    "l[0] = 20\n",
    "l.pop()\n",
    "l.append(1)\n",
    "l"
   ]
  },
  {
   "cell_type": "code",
   "execution_count": 63,
   "metadata": {},
   "outputs": [
    {
     "name": "stdout",
     "output_type": "stream",
     "text": [
      "Długość przed usinięciem: 17\n",
      "tekst po zmianie: Przkładow tekst\n",
      "długość po zmianie: 15\n"
     ]
    }
   ],
   "source": [
    "tekst =\"Przykładowy tekst\" \n",
    "znak = \"y\"\n",
    "print(\"Długość przed usinięciem: {}\" .format(len(tekst)))\n",
    "nowy_tekst = tekst.replace(znak, \"\")\n",
    "print(\"tekst po zmianie: {}\" .format(nowy_tekst))\n",
    "print(\"długość po zmianie: {}\" .format(len(nowy_tekst)))"
   ]
  },
  {
   "cell_type": "code",
   "execution_count": 64,
   "metadata": {},
   "outputs": [],
   "source": [
    "#zadanie\n",
    "i = 1\n",
    "x = 2.5"
   ]
  },
  {
   "cell_type": "code",
   "execution_count": 65,
   "metadata": {},
   "outputs": [
    {
     "name": "stdout",
     "output_type": "stream",
     "text": [
      "i: |1|\n",
      "i: |         1|\n",
      "i: |        +1|\n",
      "i: |1         |\n",
      "i: |0000000001|\n"
     ]
    }
   ],
   "source": [
    "print(\"i: |%d|\" % i)\n",
    "print(\"i: |%10d|\" % i)\n",
    "print(\"i: |%+10d|\" % i)\n",
    "print(\"i: |%-10d|\" % i)\n",
    "print(\"i: |%010d|\" % i)"
   ]
  },
  {
   "cell_type": "code",
   "execution_count": 72,
   "metadata": {},
   "outputs": [
    {
     "name": "stdout",
     "output_type": "stream",
     "text": [
      "x: |2.5|\n",
      "x: |       2.5|\n",
      "x: |    2.5000|\n",
      "x: |2.5000    |\n",
      "x: |00002.5000|\n",
      "x: |2.5000e+00|\n"
     ]
    }
   ],
   "source": [
    "print(\"x: |%.1f|\" % x)\n",
    "print(\"x: |%10.1f|\" % x)\n",
    "print(\"x: |%10.4f|\" % x)\n",
    "print(\"x: |%-10.4f|\" % x)\n",
    "print(\"x: |%010.4f|\" % x)\n",
    "print(\"x: |%.4e|\" % x)"
   ]
  },
  {
   "cell_type": "code",
   "execution_count": 85,
   "metadata": {},
   "outputs": [
    {
     "name": "stdout",
     "output_type": "stream",
     "text": [
      "dont try it\n"
     ]
    }
   ],
   "source": [
    "#składnie if \n",
    "a=-1\n",
    "if a>0:\n",
    "    print(\"good anakin good\")\n",
    "elif a>=0:\n",
    "    print(\"This is outrages\") \n",
    "else:\n",
    "    print(\"dont try it\")\n"
   ]
  },
  {
   "cell_type": "code",
   "execution_count": 91,
   "metadata": {},
   "outputs": [
    {
     "name": "stdout",
     "output_type": "stream",
     "text": [
      "Równanie ma dwa pierwiastki rzeczywiste:  1.0 -1.0\n"
     ]
    }
   ],
   "source": [
    "a = float(input(\"podaj liczbę\"))\n",
    "b = float(input(\"podaj liczbę\"))\n",
    "c = float(input(\"podaj liczbę\"))\n",
    "delta = b**2 - 4*a*c\n",
    "if delta < 0:\n",
    "    print(\"brak pierwiatków\")\n",
    "elif delta ==0:\n",
    "    x0 = -b/(2*a)\n",
    "    print(\"jeden pierwiatek rzeczywisty: \", x0 )\n",
    "else:\n",
    "    x1 = (-b+delta**0.5)/(2*a)\n",
    "    x2 = (-b-delta**0.5)/(2*a)\n",
    "    print(\"Równanie ma dwa pierwiastki rzeczywiste: \", x1, x2)"
   ]
  },
  {
   "cell_type": "code",
   "execution_count": 111,
   "metadata": {},
   "outputs": [
    {
     "name": "stdout",
     "output_type": "stream",
     "text": [
      "3\n"
     ]
    }
   ],
   "source": [
    "x=0\n",
    "a=5\n",
    "b=5\n",
    "if a > 0:\n",
    "    if b < 0:\n",
    "        x = x + 5\n",
    "    elif a > 5:\n",
    "        x = x + 4\n",
    "    else:\n",
    "        x = x + 3\n",
    "else:\n",
    "    x = x + 2\n",
    "print(x)"
   ]
  },
  {
   "cell_type": "code",
   "execution_count": 61,
   "metadata": {},
   "outputs": [],
   "source": [
    "#lista\n",
    "l = [1, 2, 3, 4, 5, 6, 7, 8, 9]\n"
   ]
  },
  {
   "cell_type": "code",
   "execution_count": 72,
   "metadata": {},
   "outputs": [
    {
     "data": {
      "text/plain": [
       "[1, 3, 5, 7, 9]"
      ]
     },
     "execution_count": 72,
     "metadata": {},
     "output_type": "execute_result"
    }
   ],
   "source": [
    "l1 = l[::2]\n",
    "l1"
   ]
  },
  {
   "cell_type": "code",
   "execution_count": 78,
   "metadata": {},
   "outputs": [
    {
     "data": {
      "text/plain": [
       "[8, 6, 4, 2]"
      ]
     },
     "execution_count": 78,
     "metadata": {},
     "output_type": "execute_result"
    }
   ],
   "source": [
    "l2 = l[1::2]\n",
    "l2.reverse()\n",
    "l2"
   ]
  },
  {
   "cell_type": "code",
   "execution_count": 79,
   "metadata": {},
   "outputs": [
    {
     "data": {
      "text/plain": [
       "[1, 3, 5, 7, 9, 8, 6, 4, 2]"
      ]
     },
     "execution_count": 79,
     "metadata": {},
     "output_type": "execute_result"
    }
   ],
   "source": [
    "l3 = l1 + l2\n",
    "l3"
   ]
  },
  {
   "cell_type": "code",
   "execution_count": 81,
   "metadata": {},
   "outputs": [
    {
     "name": "stdout",
     "output_type": "stream",
     "text": [
      "[2]\n",
      "[2, 4]\n",
      "[2] 4\n",
      "[2, 6]\n",
      "[2] 6\n",
      "[2, 7]\n"
     ]
    }
   ],
   "source": [
    "#dodawanie -append; wyrzucanie -pop\n",
    "l = []\n",
    "l.append(2)\n",
    "print(l)\n",
    "l.append(4)\n",
    "print(l)\n",
    "e = l.pop()\n",
    "print(l, e)\n",
    "l.append(6)\n",
    "print(l)\n",
    "e = l.pop()\n",
    "print(l, e)\n",
    "l.append(7)\n",
    "print(l)\n"
   ]
  },
  {
   "cell_type": "code",
   "execution_count": 89,
   "metadata": {},
   "outputs": [
    {
     "name": "stdout",
     "output_type": "stream",
     "text": [
      "-10 -10\n"
     ]
    }
   ],
   "source": [
    "lista1 = [4, 8, 12, 16]\n",
    "lista2 = lista1\n",
    "lista2[2] = -10 \n",
    "print(lista1[2], lista2[2])"
   ]
  },
  {
   "cell_type": "code",
   "execution_count": 105,
   "metadata": {},
   "outputs": [
    {
     "name": "stdout",
     "output_type": "stream",
     "text": [
      "[0, 2, 4, 6, 8, 10, 12, 14, 16, 18]\n"
     ]
    },
    {
     "data": {
      "text/plain": [
       "2659927498816"
      ]
     },
     "execution_count": 105,
     "metadata": {},
     "output_type": "execute_result"
    }
   ],
   "source": [
    "#tworzenie list\n",
    "a = list(range(0,20,2))\n",
    "print(a)\n",
    "id(a)"
   ]
  },
  {
   "cell_type": "code",
   "execution_count": 107,
   "metadata": {},
   "outputs": [
    {
     "data": {
      "text/plain": [
       "[0, 1, 4, 9, 16, 25, 36, 49, 64, 81]"
      ]
     },
     "execution_count": 107,
     "metadata": {},
     "output_type": "execute_result"
    }
   ],
   "source": [
    "#tworzenie list z użyciem pętli for\n",
    "l = []\n",
    "for i in range(10):\n",
    "    l.append(i**2)\n",
    "l"
   ]
  },
  {
   "cell_type": "code",
   "execution_count": 112,
   "metadata": {},
   "outputs": [
    {
     "data": {
      "text/plain": [
       "[0, 1, 4, 9, 16, 25, 36, 49, 64, 81]"
      ]
     },
     "execution_count": 112,
     "metadata": {},
     "output_type": "execute_result"
    }
   ],
   "source": [
    "#odwzorowania listowe\n",
    "l2 = [i**2 for i in range(10)]\n",
    "l2"
   ]
  },
  {
   "cell_type": "code",
   "execution_count": 113,
   "metadata": {},
   "outputs": [
    {
     "data": {
      "text/plain": [
       "[[0, 0],\n",
       " [0, 1],\n",
       " [0, 2],\n",
       " [0, 3],\n",
       " [0, 4],\n",
       " [0, 5],\n",
       " [1, 0],\n",
       " [1, 1],\n",
       " [1, 2],\n",
       " [1, 3],\n",
       " [1, 4],\n",
       " [1, 5],\n",
       " [2, 0],\n",
       " [2, 1],\n",
       " [2, 2],\n",
       " [2, 3],\n",
       " [2, 4],\n",
       " [2, 5],\n",
       " [3, 0],\n",
       " [3, 1],\n",
       " [3, 2],\n",
       " [3, 3],\n",
       " [3, 4],\n",
       " [3, 5],\n",
       " [4, 0],\n",
       " [4, 1],\n",
       " [4, 2],\n",
       " [4, 3],\n",
       " [4, 4],\n",
       " [4, 5]]"
      ]
     },
     "execution_count": 113,
     "metadata": {},
     "output_type": "execute_result"
    }
   ],
   "source": [
    "#zagnieżdżenia - tablica dwuwymiarowa\n",
    "l3 = [[i, j] for i in range(5) for j in range(6)]\n",
    "l3"
   ]
  },
  {
   "cell_type": "code",
   "execution_count": 116,
   "metadata": {},
   "outputs": [
    {
     "data": {
      "text/plain": [
       "[0, 0, 0, 0, 0, 0, 1, 2, 3, 4, 0, 2, 4, 6, 8, 0, 3, 6, 9, 12, 0, 4, 8, 12, 16]"
      ]
     },
     "execution_count": 116,
     "metadata": {},
     "output_type": "execute_result"
    }
   ],
   "source": [
    "#tablica jednowymiarowa\n",
    "l4 = [i * j for i in range(5) for j in range(5)]\n",
    "l4"
   ]
  },
  {
   "cell_type": "code",
   "execution_count": 8,
   "metadata": {},
   "outputs": [
    {
     "data": {
      "text/plain": [
       "{'a', 'd'}"
      ]
     },
     "execution_count": 8,
     "metadata": {},
     "output_type": "execute_result"
    }
   ],
   "source": [
    "#zbiory - albo {} albo set() oraz typ niezmienny frozenset()\n",
    "a = set()\n",
    "a = {\"a\", \"d\"}\n",
    "a"
   ]
  },
  {
   "cell_type": "code",
   "execution_count": 3,
   "metadata": {},
   "outputs": [
    {
     "data": {
      "text/plain": [
       "({'a', 'e', 'f', 'g'}, {'d', 'e', 'f', 'g'})"
      ]
     },
     "execution_count": 3,
     "metadata": {},
     "output_type": "execute_result"
    }
   ],
   "source": [
    "a = set(\"aefg\")\n",
    "b = set(\"defg\")\n",
    "a, b"
   ]
  },
  {
   "cell_type": "code",
   "execution_count": 4,
   "metadata": {},
   "outputs": [
    {
     "data": {
      "text/plain": [
       "{'a', 'd', 'e', 'f', 'g'}"
      ]
     },
     "execution_count": 4,
     "metadata": {},
     "output_type": "execute_result"
    }
   ],
   "source": [
    "#suma - a. union(b)\n",
    "a | b"
   ]
  },
  {
   "cell_type": "code",
   "execution_count": 5,
   "metadata": {},
   "outputs": [
    {
     "data": {
      "text/plain": [
       "{'e', 'f', 'g'}"
      ]
     },
     "execution_count": 5,
     "metadata": {},
     "output_type": "execute_result"
    }
   ],
   "source": [
    "#przecięcie zbiorów - a.intersection(b)\n",
    "a & b"
   ]
  },
  {
   "cell_type": "code",
   "execution_count": 6,
   "metadata": {},
   "outputs": [
    {
     "data": {
      "text/plain": [
       "{'a'}"
      ]
     },
     "execution_count": 6,
     "metadata": {},
     "output_type": "execute_result"
    }
   ],
   "source": [
    "#różnica - a.difference(b)\n",
    "a - b"
   ]
  },
  {
   "cell_type": "code",
   "execution_count": 7,
   "metadata": {},
   "outputs": [
    {
     "data": {
      "text/plain": [
       "{'a', 'd'}"
      ]
     },
     "execution_count": 7,
     "metadata": {},
     "output_type": "execute_result"
    }
   ],
   "source": [
    "#różnica symetryczna - a.symetric_difference(b)\n",
    "a ^ b"
   ]
  },
  {
   "cell_type": "code",
   "execution_count": 29,
   "metadata": {},
   "outputs": [
    {
     "data": {
      "text/plain": [
       "{'a', 'b', 'c', 'd', 'e', 'f'}"
      ]
     },
     "execution_count": 29,
     "metadata": {},
     "output_type": "execute_result"
    }
   ],
   "source": [
    "slowo = \"abcdef\"\n",
    "zdanie = \"aabbccddeeffaacc\"\n",
    "set(slowo)\n",
    "set(zdanie)"
   ]
  },
  {
   "cell_type": "code",
   "execution_count": 30,
   "metadata": {},
   "outputs": [
    {
     "data": {
      "text/plain": [
       "True"
      ]
     },
     "execution_count": 30,
     "metadata": {},
     "output_type": "execute_result"
    }
   ],
   "source": [
    "s = set(slowo)\n",
    "z = set(zdanie)\n",
    "s.issubset(z)"
   ]
  },
  {
   "cell_type": "code",
   "execution_count": 10,
   "metadata": {},
   "outputs": [
    {
     "data": {
      "text/plain": [
       "{'imię': 'Jan', 'nazwisko': 'Kowalski'}"
      ]
     },
     "execution_count": 10,
     "metadata": {},
     "output_type": "execute_result"
    }
   ],
   "source": [
    "#słownik -  .item(keys:values)\n",
    "k = dict(a = 5, y = 20)\n",
    "k = {1:\"d\", 3:\"u\"}\n",
    "student = {\"imię\":\"Jan\", \"nazwisko\":\"Kowalski\"}\n",
    "student"
   ]
  },
  {
   "cell_type": "code",
   "execution_count": 13,
   "metadata": {},
   "outputs": [
    {
     "data": {
      "text/plain": [
       "{'imię': 'Jan', 'nazwisko': 'Kowalski', 'wiek': 27}"
      ]
     },
     "execution_count": 13,
     "metadata": {},
     "output_type": "execute_result"
    }
   ],
   "source": [
    "student[\"imię\"]\n",
    "student[\"wiek\"] = 27\n",
    "student"
   ]
  },
  {
   "cell_type": "code",
   "execution_count": 14,
   "metadata": {},
   "outputs": [
    {
     "name": "stdout",
     "output_type": "stream",
     "text": [
      "imię\n",
      "nazwisko\n",
      "wiek\n"
     ]
    }
   ],
   "source": [
    "for k in student.keys():\n",
    "    print(k)"
   ]
  },
  {
   "cell_type": "code",
   "execution_count": 34,
   "metadata": {},
   "outputs": [
    {
     "name": "stdout",
     "output_type": "stream",
     "text": [
      "1\n"
     ]
    }
   ],
   "source": [
    "#obsługa błędów -raise(wymuszenie pojawienia sie wyjątku) oraz assert(zgłaszanie błędów) - \n",
    "a = int(input(\"Wiek\"))\n",
    "if a < 0:\n",
    "    raise ValueError(\"Niewłaściwa odpowiedź\")\n",
    "else:\n",
    "    print(a)"
   ]
  },
  {
   "cell_type": "code",
   "execution_count": null,
   "metadata": {},
   "outputs": [],
   "source": []
  },
  {
   "cell_type": "code",
   "execution_count": 89,
   "metadata": {},
   "outputs": [
    {
     "name": "stdout",
     "output_type": "stream",
     "text": [
      "podałeś poprawną wartość\n"
     ]
    }
   ],
   "source": [
    "# try except - as* else*\n",
    "while True:\n",
    "    try:\n",
    "        a = int(input(\"podaj liczbę\"))\n",
    "    except ValueError: #except: w przypadku gdy chcemy do każdego możliwego wyjątku\n",
    "        print(\"Zła liczbe\")\n",
    "        a = int(input(\"podaj liczbę\"))\n",
    "    else:\n",
    "        print(\"podałeś poprawną wartość\")\n",
    "        break"
   ]
  },
  {
   "cell_type": "code",
   "execution_count": 96,
   "metadata": {},
   "outputs": [
    {
     "name": "stdout",
     "output_type": "stream",
     "text": [
      "podałeś poprawną wartość\n"
     ]
    }
   ],
   "source": [
    "#do poprawy i zadanie do zrobienia z obsługi błędów!\n",
    "while True:\n",
    "    try:\n",
    "        a = int(input(\"podaj liczbę\"))\n",
    "    except Exception as e:\n",
    "        print(\"Inny wyjątek\", e.__class__)\n",
    "        a = int(input(\"podaj liczbę\"))\n",
    "    else:\n",
    "        print(\"podałeś poprawną wartość\")\n",
    "        break"
   ]
  },
  {
   "cell_type": "code",
   "execution_count": 97,
   "metadata": {},
   "outputs": [
    {
     "ename": "SyntaxError",
     "evalue": "invalid non-printable character U+205F (1228851960.py, line 2)",
     "output_type": "error",
     "traceback": [
      "\u001b[1;36m  Cell \u001b[1;32mIn[97], line 2\u001b[1;36m\u001b[0m\n\u001b[1;33m    print(x)\u001b[0m\n\u001b[1;37m    ^\u001b[0m\n\u001b[1;31mSyntaxError\u001b[0m\u001b[1;31m:\u001b[0m invalid non-printable character U+205F\n"
     ]
    }
   ],
   "source": [
    "try:\n",
    "    print(x)\n",
    "except:\n",
    "    print(\"Przechwycono wyjątek\")"
   ]
  }
 ],
 "metadata": {
  "kernelspec": {
   "display_name": "base",
   "language": "python",
   "name": "python3"
  },
  "language_info": {
   "codemirror_mode": {
    "name": "ipython",
    "version": 3
   },
   "file_extension": ".py",
   "mimetype": "text/x-python",
   "name": "python",
   "nbconvert_exporter": "python",
   "pygments_lexer": "ipython3",
   "version": "3.11.3"
  },
  "orig_nbformat": 4
 },
 "nbformat": 4,
 "nbformat_minor": 2
}
