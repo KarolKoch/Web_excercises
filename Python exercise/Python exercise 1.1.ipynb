{
 "cells": [
  {
   "cell_type": "code",
   "execution_count": 3,
   "metadata": {},
   "outputs": [
    {
     "name": "stdout",
     "output_type": "stream",
     "text": [
      "Karol\n",
      "Koch\n"
     ]
    }
   ],
   "source": [
    "#zapytanie o imię i nazwisko\n",
    "imię = input(\"podaj imie\")\n",
    "print(imię)\n",
    "nazwisko = input(\"podaj nazwisko\")\n",
    "print(nazwisko)\n"
   ]
  },
  {
   "cell_type": "code",
   "execution_count": 8,
   "metadata": {},
   "outputs": [
    {
     "name": "stdout",
     "output_type": "stream",
     "text": [
      "Tekst z \n",
      " wcięciami\n",
      "Tekst        z      wcięciami\n",
      " \n",
      " Tekst z \t  wcięciami\n"
     ]
    }
   ],
   "source": [
    "#znaki specjalne\n",
    "print(\"Tekst z \\n wcięciami\")\n",
    "print(\"Tekst        z      wcięciami\")\n",
    "print(\" \\n Tekst z \\t  wcięciami\")"
   ]
  },
  {
   "cell_type": "code",
   "execution_count": null,
   "metadata": {},
   "outputs": [
    {
     "name": "stdout",
     "output_type": "stream",
     "text": [
      "Zimnica\n"
     ]
    }
   ],
   "source": [
    "#funkcja if elif else\n",
    "t = int(input(\"Jaka temperatura\"))\n",
    "if t > 25 and t < 34:\n",
    "    komunikat = \"Cieplutko\"\n",
    "elif t >=17 and t < 25:\n",
    "    komunikat = \"Ciepło\"\n",
    "elif t >= 10 and t < 17:\n",
    "    komunikat = \"Chłodno\"\n",
    "elif t < 9:\n",
    "    komunikat = \"Zimnica\"\n",
    "else:\n",
    "    komunikat = \"Gorąco!\"\n",
    "print(komunikat)"
   ]
  },
  {
   "cell_type": "code",
   "execution_count": 59,
   "metadata": {},
   "outputs": [
    {
     "name": "stdout",
     "output_type": "stream",
     "text": [
      "['brak danych brak danych']\n"
     ]
    }
   ],
   "source": [
    "#baza klientów\n",
    "baza_klientów = []\n",
    "imie = input(\"Podaj imię: \")\n",
    "if imie == \"\":\n",
    "    imie = \"brak danych\"\n",
    "nazwisko = input(\"Podaj nazwisko: \")\n",
    "if nazwisko == \"\":\n",
    "    nazwisko = \"brak danych\"\n",
    "rekord = imie + \" \" + nazwisko\n",
    "baza_klientów.append(rekord)\n",
    "print(baza_klientów)"
   ]
  },
  {
   "cell_type": "code",
   "execution_count": 2,
   "metadata": {},
   "outputs": [
    {
     "data": {
      "text/plain": [
       "2"
      ]
     },
     "execution_count": 2,
     "metadata": {},
     "output_type": "execute_result"
    }
   ],
   "source": [
    "a = 2\n",
    "a"
   ]
  }
 ],
 "metadata": {
  "kernelspec": {
   "display_name": "Python 3",
   "language": "python",
   "name": "python3"
  },
  "language_info": {
   "codemirror_mode": {
    "name": "ipython",
    "version": 3
   },
   "file_extension": ".py",
   "mimetype": "text/x-python",
   "name": "python",
   "nbconvert_exporter": "python",
   "pygments_lexer": "ipython3",
   "version": "3.11.3"
  },
  "orig_nbformat": 4
 },
 "nbformat": 4,
 "nbformat_minor": 2
}
